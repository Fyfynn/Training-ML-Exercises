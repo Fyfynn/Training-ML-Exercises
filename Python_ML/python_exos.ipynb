{
 "cells": [
  {
   "cell_type": "markdown",
   "metadata": {},
   "source": [
    "1. Les fonctions"
   ]
  },
  {
   "cell_type": "markdown",
   "metadata": {},
   "source": [
    "Print une fonction EXEMPLE : f(x) = x²\n",
    "\n",
    "On utilise l'expression lambda"
   ]
  },
  {
   "cell_type": "code",
   "execution_count": 11,
   "metadata": {},
   "outputs": [
    {
     "data": {
      "text/plain": [
       "9"
      ]
     },
     "execution_count": 11,
     "metadata": {},
     "output_type": "execute_result"
    }
   ],
   "source": [
    "f = lambda x: x**2 # f(x) = x²\n",
    "f(3)"
   ]
  },
  {
   "cell_type": "code",
   "execution_count": 8,
   "metadata": {},
   "outputs": [
    {
     "name": "stdout",
     "output_type": "stream",
     "text": [
      "914.4 Joules\n"
     ]
    }
   ],
   "source": [
    "def e_potentielle(masse, hauteur, g = 3.81):\n",
    "    E = masse * hauteur * g\n",
    "    print(E, 'Joules')\n",
    "\n",
    "e_potentielle(80, 3)"
   ]
  },
  {
   "cell_type": "code",
   "execution_count": 14,
   "metadata": {},
   "outputs": [
    {
     "data": {
      "text/plain": [
       "True"
      ]
     },
     "execution_count": 14,
     "metadata": {},
     "output_type": "execute_result"
    }
   ],
   "source": [
    "def e_potentielle_limite(masse, hauteur, limite, g = 9.81):\n",
    "    E = masse * hauteur * g\n",
    "    return E < limite\n",
    "\n",
    "e_potentielle_limite(50, 10, 6000)\n",
    "# Return True or False"
   ]
  },
  {
   "cell_type": "code",
   "execution_count": 7,
   "metadata": {},
   "outputs": [
    {
     "name": "stdout",
     "output_type": "stream",
     "text": [
      "-1 negatif\n",
      "2 positif\n"
     ]
    }
   ],
   "source": [
    "def signe(x):\n",
    "    if (x>0):\n",
    "        print(x, 'positif')\n",
    "    elif x == 0:\n",
    "        print(x, 'nul')\n",
    "    else:\n",
    "        print(x, 'negatif')\n",
    "\n",
    "signe(-1)\n",
    "signe(2)"
   ]
  },
  {
   "cell_type": "markdown",
   "metadata": {},
   "source": [
    "2. Boucles if/else / while / for"
   ]
  },
  {
   "cell_type": "code",
   "execution_count": 12,
   "metadata": {},
   "outputs": [
    {
     "name": "stdout",
     "output_type": "stream",
     "text": [
      "10 positif\n",
      "8 positif\n",
      "6 positif\n",
      "4 positif\n",
      "2 positif\n",
      "0 nul\n",
      "-2 negatif\n",
      "-4 negatif\n",
      "-6 negatif\n",
      "-8 negatif\n"
     ]
    }
   ],
   "source": [
    "for element in range(10, -10, -2):\n",
    "    signe(element)"
   ]
  },
  {
   "cell_type": "code",
   "execution_count": 13,
   "metadata": {},
   "outputs": [
    {
     "name": "stdout",
     "output_type": "stream",
     "text": [
      "0\n",
      "1\n",
      "2\n",
      "3\n",
      "4\n",
      "5\n",
      "6\n",
      "7\n",
      "8\n",
      "9\n"
     ]
    }
   ],
   "source": [
    "x = 0\n",
    "\n",
    "while x < 10:\n",
    "    print(x)\n",
    "    x += 1"
   ]
  },
  {
   "cell_type": "code",
   "execution_count": 18,
   "metadata": {},
   "outputs": [
    {
     "name": "stdout",
     "output_type": "stream",
     "text": [
      "0\n",
      "1\n",
      "1\n",
      "2\n",
      "3\n"
     ]
    },
    {
     "data": {
      "text/plain": [
       "[0, 1, 1, 2, 3, 5]"
      ]
     },
     "execution_count": 18,
     "metadata": {},
     "output_type": "execute_result"
    }
   ],
   "source": [
    "def fibonacci(n):\n",
    "    a = 0\n",
    "    b = 1\n",
    "    fib = [a]\n",
    "\n",
    "    while a < n:\n",
    "        print(a)\n",
    "        a, b = b, a+b # OU a = b et b = a+b\n",
    "        fib.append(a)\n",
    "    return fib\n",
    "\n",
    "fibonacci(5)"
   ]
  },
  {
   "cell_type": "markdown",
   "metadata": {},
   "source": [
    "3. Listes / Dictionnaires / Tuples"
   ]
  },
  {
   "cell_type": "code",
   "execution_count": 24,
   "metadata": {},
   "outputs": [
    {
     "name": "stdout",
     "output_type": "stream",
     "text": [
      "Paris\n",
      "Moscou\n",
      "['Paris', 'Londres', 'Moscou']\n"
     ]
    }
   ],
   "source": [
    "liste_1 = [1, 4, 2, 7, 35, 84]\n",
    "\n",
    "liste_3 = []\n",
    "\n",
    "tuple_1 = (1, 2, 6, 1, 7) # on peut pas modifier un tuple (il utilise moins de mémoire)\n",
    "\n",
    "prenom = 'Yo'\n",
    "\n",
    "villes = ['Paris', 'Berlin', 'Londres', 'Bruxelles', 'Moscou']\n",
    "\n",
    "# premier élement\n",
    "print(villes[0])\n",
    "# dernier élément\n",
    "print(villes[-1])\n",
    "\n",
    "# Slicing\n",
    "print(villes[0:5:2])\n"
   ]
  },
  {
   "cell_type": "code",
   "execution_count": 26,
   "metadata": {},
   "outputs": [
    {
     "name": "stdout",
     "output_type": "stream",
     "text": [
      "oui\n"
     ]
    }
   ],
   "source": [
    "if 'Paris' in villes :\n",
    "    print('oui')\n",
    "else:\n",
    "    print('non')"
   ]
  },
  {
   "cell_type": "code",
   "execution_count": 28,
   "metadata": {},
   "outputs": [
    {
     "name": "stdout",
     "output_type": "stream",
     "text": [
      "(0, 'Paris')\n",
      "(1, 'Berlin')\n",
      "(2, 'Londres')\n",
      "(3, 'Bruxelles')\n",
      "(4, 'Moscou')\n"
     ]
    }
   ],
   "source": [
    "for i in enumerate(villes) : # enumerate va print index ET la valeur\n",
    "    print(i)"
   ]
  },
  {
   "cell_type": "code",
   "execution_count": 29,
   "metadata": {},
   "outputs": [
    {
     "name": "stdout",
     "output_type": "stream",
     "text": [
      "Paris 1\n",
      "Berlin 4\n",
      "Londres 2\n",
      "Bruxelles 7\n",
      "Moscou 35\n"
     ]
    }
   ],
   "source": [
    "for a, b, in zip(villes, liste_1): # la boucle fort s'arrêtera là où la liste s'arrête\n",
    "    print(a, b)"
   ]
  },
  {
   "cell_type": "code",
   "execution_count": 31,
   "metadata": {},
   "outputs": [
    {
     "data": {
      "text/plain": [
       "{'chien': 'dog', 'chat': 'cat', 'souris': 'mouse', 'oiseau': 'bird'}"
      ]
     },
     "execution_count": 31,
     "metadata": {},
     "output_type": "execute_result"
    }
   ],
   "source": [
    "traduction = {\n",
    "        \"chien\":\"dog\", # Ne peut y avoir que des keys uniques\n",
    "        \"chat\":\"cat\",\n",
    "        \"souris\":\"mouse\",\n",
    "        \"oiseau\":\"bird\"\n",
    "        }\n",
    "traduction"
   ]
  },
  {
   "cell_type": "code",
   "execution_count": 32,
   "metadata": {},
   "outputs": [
    {
     "data": {
      "text/plain": [
       "{'dict_1': {'chien': 'dog',\n",
       "  'chat': 'cat',\n",
       "  'souris': 'mouse',\n",
       "  'oiseau': 'bird'},\n",
       " 'dict_2': {'bananes': 4153, 'pommes': 5613}}"
      ]
     },
     "execution_count": 32,
     "metadata": {},
     "output_type": "execute_result"
    }
   ],
   "source": [
    "inventaire = {\n",
    "            \"bananes\":4153,\n",
    "            \"pommes\":5613\n",
    "            }\n",
    "\n",
    "dict_3 = {\n",
    "        \"dict_1\": traduction,\n",
    "        \"dict_2\": inventaire\n",
    "        }\n",
    "dict_3"
   ]
  },
  {
   "cell_type": "code",
   "execution_count": 38,
   "metadata": {},
   "outputs": [],
   "source": [
    "import numpy as np\n",
    "\n",
    "parametres = {\n",
    "        \"W1\": np.random.randn(10, 100),  # tableau numpy d'un réseau de neurones par exemple        \"b1\": np.random.randn(10, 1),\n",
    "        \"W2\": np.random.randn(10, 10),\n",
    "        \"b2\": np.random.randn(10, 1)\n",
    "        }"
   ]
  },
  {
   "cell_type": "code",
   "execution_count": 40,
   "metadata": {},
   "outputs": [
    {
     "name": "stdout",
     "output_type": "stream",
     "text": [
      "dict_values([4153, 5613])\n"
     ]
    },
    {
     "data": {
      "text/plain": [
       "dict_keys(['bananes', 'pommes'])"
      ]
     },
     "execution_count": 40,
     "metadata": {},
     "output_type": "execute_result"
    }
   ],
   "source": [
    "# Accéder aux valeurs du dict\n",
    "print(inventaire.values())\n",
    "# Accéder aux keys du dict\n",
    "inventaire.keys()"
   ]
  },
  {
   "cell_type": "code",
   "execution_count": 44,
   "metadata": {},
   "outputs": [
    {
     "name": "stdout",
     "output_type": "stream",
     "text": [
      "1\n"
     ]
    },
    {
     "data": {
      "text/plain": [
       "{'bananes': 4153, 'pommes': 5613, 'abricots': 4922}"
      ]
     },
     "execution_count": 44,
     "metadata": {},
     "output_type": "execute_result"
    }
   ],
   "source": [
    "# Ajouter une key / value au dict\n",
    "inventaire['abricots'] = 4922\n",
    "\n",
    "# Retourne la valeur ou Rien si la key n'existe pas\n",
    "print(inventaire.get('peches', 1)) # 1 ici est un param est la valeur de sortie par defaut\n",
    "\n",
    "inventaire"
   ]
  },
  {
   "cell_type": "code",
   "execution_count": 45,
   "metadata": {},
   "outputs": [
    {
     "data": {
      "text/plain": [
       "{'bananes': 4153, 'pommes': 5613}"
      ]
     },
     "execution_count": 45,
     "metadata": {},
     "output_type": "execute_result"
    }
   ],
   "source": [
    "# Retirer cette association de \"inventaire\" puis Extraire dans une variable\n",
    "fruits = inventaire.pop('abricots')\n",
    "# fruits return la valeur d'abricots\n",
    "inventaire"
   ]
  },
  {
   "cell_type": "code",
   "execution_count": 47,
   "metadata": {},
   "outputs": [
    {
     "data": {
      "text/plain": [
       "{'Paris': 'default',\n",
       " 'Berlin': 'default',\n",
       " 'Londres': 'default',\n",
       " 'Bruxelles': 'default',\n",
       " 'Moscou': 'default'}"
      ]
     },
     "execution_count": 47,
     "metadata": {},
     "output_type": "execute_result"
    }
   ],
   "source": [
    "# Créer un dict entier à partir d'une liste\n",
    "inventaire.fromkeys(villes, 'default')\n",
    "# -> return {\"Paris\": 'defaut', \"Londres\":'defaut',...}"
   ]
  },
  {
   "cell_type": "code",
   "execution_count": 48,
   "metadata": {},
   "outputs": [
    {
     "name": "stdout",
     "output_type": "stream",
     "text": [
      "Keys are : bananes\n",
      "Keys are : pommes\n",
      "Values are : 4153\n",
      "Values are : 5613\n",
      "Keys and values are : bananes 4153\n",
      "Keys and values are : pommes 5613\n"
     ]
    }
   ],
   "source": [
    "for i in inventaire:\n",
    "    print(\"Keys are :\", i) # print que les keys\n",
    "\n",
    "for i in inventaire.values(): # ou inventaire.key()\n",
    "    print(\"Values are :\", i) # print values OR keys\n",
    "\n",
    "for key, value in inventaire.items():\n",
    "    print(\"Keys and values are :\", key, value) # print key + value"
   ]
  },
  {
   "cell_type": "code",
   "execution_count": 51,
   "metadata": {},
   "outputs": [
    {
     "data": {
      "text/plain": [
       "{'positif': [10], 'negatif': [-3]}"
      ]
     },
     "execution_count": 51,
     "metadata": {},
     "output_type": "execute_result"
    }
   ],
   "source": [
    "classeur = {\n",
    "    \"positif\" : [],\n",
    "    \"negatif\" : [],\n",
    "}\n",
    "\n",
    "def trier(classeur, nombre):\n",
    "    if nombre > 0:\n",
    "        classeur['positif'].append(nombre)\n",
    "    else:\n",
    "        classeur['negatif'].append(nombre)\n",
    "    \n",
    "    return classeur\n",
    "\n",
    "trier(classeur, -3)\n",
    "trier(classeur, 10)"
   ]
  },
  {
   "cell_type": "markdown",
   "metadata": {},
   "source": [
    "4. Liste / Dictionnaire Comprehension"
   ]
  },
  {
   "cell_type": "code",
   "execution_count": 52,
   "metadata": {},
   "outputs": [
    {
     "name": "stdout",
     "output_type": "stream",
     "text": [
      "[0, 1, 4, 9, 16]\n"
     ]
    }
   ],
   "source": [
    "# tous les carrés de 0 à 9\n",
    "liste_4 = []\n",
    "for i in range(5):\n",
    "    liste_4.append(i**2)\n",
    "\n",
    "print(liste_4)\n",
    "# return [0, 1, 4, 9, 16]"
   ]
  },
  {
   "cell_type": "code",
   "execution_count": 53,
   "metadata": {},
   "outputs": [
    {
     "name": "stdout",
     "output_type": "stream",
     "text": [
      "[0, 1, 4, 9, 16]\n"
     ]
    }
   ],
   "source": [
    "# Peut être écrit par :\n",
    "liste_5 = [i**2 for i in range(5)]\n",
    "print(liste_5)"
   ]
  },
  {
   "cell_type": "code",
   "execution_count": 54,
   "metadata": {},
   "outputs": [
    {
     "name": "stdout",
     "output_type": "stream",
     "text": [
      "0.000997304916381836\n"
     ]
    }
   ],
   "source": [
    "# Autre raison pour laquelle on utilise cette méthode\n",
    "import time\n",
    "start = time.time()\n",
    "liste_4 = []\n",
    "for i in range(5):\n",
    "    liste_4.append(i**2)\n",
    "end = time.time()\n",
    "print(end - start)"
   ]
  },
  {
   "cell_type": "code",
   "execution_count": 57,
   "metadata": {},
   "outputs": [
    {
     "name": "stdout",
     "output_type": "stream",
     "text": [
      "0.0010039806365966797\n"
     ]
    }
   ],
   "source": [
    "import time\n",
    "start = time.time()\n",
    "liste_5 = [i**2 for i in range(5)]\n",
    "end = time.time()\n",
    "print(end - start)"
   ]
  },
  {
   "cell_type": "code",
   "execution_count": 58,
   "metadata": {},
   "outputs": [
    {
     "name": "stdout",
     "output_type": "stream",
     "text": [
      "[[0, 1], [0, 1], [0, 1]]\n"
     ]
    }
   ],
   "source": [
    "# Nested list = liste qui contient d'autre liste\n",
    "liste_6 = [[i for i in range(2)] for j in range(3)]\n",
    "print(liste_6) # return [[0, 1], [0, 1], [0, 1]]"
   ]
  },
  {
   "cell_type": "code",
   "execution_count": 60,
   "metadata": {},
   "outputs": [],
   "source": [
    "dict_4 = {\n",
    "    \"0\":\"Pierre\",\n",
    "    \"1\":\"Jean\",\n",
    "    \"2\":\"Julie\",\n",
    "    \"3\":\"Sophie\",\n",
    "}\n",
    "\n",
    "prenoms = [\"Pierre\", \"Jean\", \"Julie\", \"Sophie\"]"
   ]
  },
  {
   "cell_type": "code",
   "execution_count": 61,
   "metadata": {},
   "outputs": [
    {
     "name": "stdout",
     "output_type": "stream",
     "text": [
      "{0: 'Pierre', 1: 'Jean', 2: 'Julie', 3: 'Sophie'}\n"
     ]
    }
   ],
   "source": [
    "dico = {key:value for key, value in enumerate(prenoms)}\n",
    "print(dico)"
   ]
  },
  {
   "cell_type": "code",
   "execution_count": 62,
   "metadata": {},
   "outputs": [
    {
     "data": {
      "text/plain": [
       "{'Pierre': 24, 'Jean': 62, 'Sophie': 23}"
      ]
     },
     "execution_count": 62,
     "metadata": {},
     "output_type": "execute_result"
    }
   ],
   "source": [
    "ages = [24, 62, 12, 23]\n",
    "dico_2 = {prenom:age for prenom, age in zip(prenoms, ages) if age > 20}\n",
    "dico_2 "
   ]
  },
  {
   "cell_type": "markdown",
   "metadata": {},
   "source": [
    "5. Built-In Functions"
   ]
  },
  {
   "cell_type": "code",
   "execution_count": 64,
   "metadata": {},
   "outputs": [
    {
     "name": "stdout",
     "output_type": "stream",
     "text": [
      "Valur absolue : 3\n",
      "Arrondir une décimal : 3\n",
      "Valur max : 23\n",
      "Valur min : -19\n",
      "Longueur list : 4\n",
      "Somme des valeurs : 18\n"
     ]
    }
   ],
   "source": [
    "# Return valeur absolue\n",
    "x = -3\n",
    "print(\"Valur absolue :\", abs(x))\n",
    "\n",
    "# Arrondir une decimal\n",
    "x = 3.14\n",
    "print(\"Arrondir une décimal :\", round(x))\n",
    "\n",
    "# List\n",
    "liste_7 = [0, 23, 14, -19]\n",
    "print(\"Valur max :\", max(liste_7)) #23\n",
    "print(\"Valur min :\",min(liste_7))\n",
    "print(\"Longueur list :\",len(liste_7))\n",
    "print(\"Somme des valeurs :\",sum(liste_7))"
   ]
  },
  {
   "cell_type": "code",
   "execution_count": 66,
   "metadata": {},
   "outputs": [
    {
     "name": "stdout",
     "output_type": "stream",
     "text": [
      "<class 'int'>\n",
      "<class 'str'>\n"
     ]
    }
   ],
   "source": [
    "x = 10\n",
    "print(type(x)) # -> int\n",
    "x = str(x)\n",
    "print(type(x)) # -> str\n",
    "\n",
    "y = 'yo' # en int(x) pas possible"
   ]
  },
  {
   "cell_type": "code",
   "execution_count": 74,
   "metadata": {},
   "outputs": [
    {
     "name": "stdout",
     "output_type": "stream",
     "text": [
      "<class 'str'>\n"
     ]
    }
   ],
   "source": [
    "x = input(\"Entrez un nombre\")\n",
    "print(type(x))"
   ]
  },
  {
   "cell_type": "code",
   "execution_count": 72,
   "metadata": {},
   "outputs": [
    {
     "name": "stdout",
     "output_type": "stream",
     "text": [
      "<class 'int'>\n"
     ]
    }
   ],
   "source": [
    "x = int(input(\"Entrez un nombre\"))\n",
    "\n",
    "print(type(x))"
   ]
  },
  {
   "cell_type": "code",
   "execution_count": 77,
   "metadata": {},
   "outputs": [
    {
     "name": "stdout",
     "output_type": "stream",
     "text": [
      "la température est de x degC a ville\n",
      "la température est de 25 degC a Paris\n",
      "la température est de 25 degC a Paris\n"
     ]
    }
   ],
   "source": [
    "x = 25\n",
    "ville = 'Paris'\n",
    "message = \"la température est de x degC a ville\"\n",
    "print(message)\n",
    "\n",
    "message2 = \"la température est de {} degC a {}\".format(x, ville)\n",
    "print(message2)\n",
    "\n",
    "message3 = f\"la température est de {x} degC a {ville}\"\n",
    "print(message3)"
   ]
  },
  {
   "cell_type": "code",
   "execution_count": 81,
   "metadata": {},
   "outputs": [
    {
     "name": "stdout",
     "output_type": "stream",
     "text": [
      "couche 1\n",
      "[[-0.43866386  0.68755789  1.4068986  -0.81881554]\n",
      " [-0.8486589   0.81834754  0.83767362  0.46622359]]\n",
      "couche 2\n",
      "[[-0.2173746   0.69479974]\n",
      " [-0.75029986 -0.23533684]]\n"
     ]
    }
   ],
   "source": [
    "parametres = {\n",
    "    \"W1\": np.random.randn(2, 4),\n",
    "    \"b1\": np.zeros((2, 1)),\n",
    "    \"W2\": np.random.randn(2, 2),\n",
    "    \"b2\": np.zeros((2, 1))\n",
    "}\n",
    "\n",
    "for i in range(1, 3):\n",
    "    print(\"couche\", i)\n",
    "    print(parametres['W{}'.format(i)]) # ou alors print(parametres[\"W\"+str(i)])"
   ]
  },
  {
   "cell_type": "code",
   "execution_count": 82,
   "metadata": {},
   "outputs": [],
   "source": [
    "f = open(\"fichier.txt\", 'w')"
   ]
  },
  {
   "cell_type": "code",
   "execution_count": 84,
   "metadata": {},
   "outputs": [],
   "source": [
    "f.write(\"bonjour\")\n",
    "f.close()"
   ]
  },
  {
   "cell_type": "code",
   "execution_count": 85,
   "metadata": {},
   "outputs": [
    {
     "data": {
      "text/plain": [
       "'bonjour'"
      ]
     },
     "execution_count": 85,
     "metadata": {},
     "output_type": "execute_result"
    }
   ],
   "source": [
    "f = open('fichier.txt', 'r')\n",
    "f.read()"
   ]
  },
  {
   "cell_type": "code",
   "execution_count": 89,
   "metadata": {},
   "outputs": [],
   "source": [
    "with open('fichier.txt', 'w') as f: # pas de close() ferme auto\n",
    "    for i in range(5):\n",
    "        f.write(\"{}^2 = {} \\n\".format(i, i**2))"
   ]
  },
  {
   "cell_type": "code",
   "execution_count": 95,
   "metadata": {},
   "outputs": [
    {
     "data": {
      "text/plain": [
       "{'0': 0,\n",
       " '1': 1,\n",
       " '2': 4,\n",
       " '3': 9,\n",
       " '4': 16,\n",
       " '5': 25,\n",
       " '6': 36,\n",
       " '7': 49,\n",
       " '8': 64,\n",
       " '9': 81,\n",
       " '10': 100,\n",
       " '11': 121,\n",
       " '12': 144,\n",
       " '13': 169,\n",
       " '14': 196,\n",
       " '15': 225,\n",
       " '16': 256,\n",
       " '17': 289,\n",
       " '18': 324,\n",
       " '19': 361}"
      ]
     },
     "execution_count": 95,
     "metadata": {},
     "output_type": "execute_result"
    }
   ],
   "source": [
    "carres_pairs = {str(k) : k**2 for k in range(0, 20)}\n",
    "carres_pairs"
   ]
  }
 ],
 "metadata": {
  "kernelspec": {
   "display_name": "Python 3.10.7 64-bit (microsoft store)",
   "language": "python",
   "name": "python3"
  },
  "language_info": {
   "codemirror_mode": {
    "name": "ipython",
    "version": 3
   },
   "file_extension": ".py",
   "mimetype": "text/x-python",
   "name": "python",
   "nbconvert_exporter": "python",
   "pygments_lexer": "ipython3",
   "version": "3.10.7"
  },
  "orig_nbformat": 4,
  "vscode": {
   "interpreter": {
    "hash": "dc63c37ad6ec7fd41cc8e0b4a996b8e827c6212b8274acecb841856aa869bb12"
   }
  }
 },
 "nbformat": 4,
 "nbformat_minor": 2
}
