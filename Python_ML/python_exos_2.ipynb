{
 "cells": [
  {
   "cell_type": "markdown",
   "metadata": {},
   "source": [
    "6. Modules et Packages"
   ]
  },
  {
   "cell_type": "code",
   "execution_count": 2,
   "metadata": {},
   "outputs": [
    {
     "name": "stdout",
     "output_type": "stream",
     "text": [
      "0\n",
      "1\n",
      "1\n",
      "2\n",
      "3\n",
      "5\n",
      "8\n",
      "13\n",
      "21\n"
     ]
    },
    {
     "data": {
      "text/plain": [
       "[0, 1, 1, 2, 3, 5, 8, 13, 21, 34]"
      ]
     },
     "execution_count": 2,
     "metadata": {},
     "output_type": "execute_result"
    }
   ],
   "source": [
    "from python_exos import fibonacci\n",
    "\n",
    "liste_7 = fibonacci(23)\n",
    "liste_7"
   ]
  },
  {
   "cell_type": "code",
   "execution_count": 3,
   "metadata": {},
   "outputs": [
    {
     "name": "stdout",
     "output_type": "stream",
     "text": [
      "1.0\n",
      "8.8\n",
      "121.73333333333333\n"
     ]
    }
   ],
   "source": [
    "import math\n",
    "import statistics\n",
    "\n",
    "print(math.cos(2*math.pi))\n",
    "print(statistics.mean(liste_7))\n",
    "print(statistics.variance(liste_7))"
   ]
  },
  {
   "cell_type": "markdown",
   "metadata": {},
   "source": [
    "En datascience on aime bien de l'aléatoire qu'on peut maîtriser"
   ]
  },
  {
   "cell_type": "code",
   "execution_count": 20,
   "metadata": {},
   "outputs": [
    {
     "name": "stdout",
     "output_type": "stream",
     "text": [
      "8\n",
      "Julie\n",
      "0.04048437818077755\n",
      "9\n",
      "62\n",
      "[38, 61, 45, 74, 27, 64]\n"
     ]
    }
   ],
   "source": [
    "import random\n",
    "\n",
    "random.seed(0) # les random en dessous seront toujours les mêmes\n",
    "\n",
    "print(random.choice(liste_7))\n",
    "print(random.choice([\"Jean\", \"Julie\", \"Anne\"]))\n",
    "\n",
    "print(random.random()) # float tjrs compris entre 0 et 1\n",
    "print(random.randint(5, 10)) # compris entre 5 et 10\n",
    "print(random.randrange(100)) # int entre 0 et 100\n",
    "\n",
    "print(random.sample(range(100), random.randrange(10))) \n",
    "# list de population \n",
    "# compris entre 0 - 100\n",
    "# n éléments dans la liste\n",
    "\n",
    "random.shuffle(liste_7) # mélange aléatoirement"
   ]
  },
  {
   "cell_type": "code",
   "execution_count": 25,
   "metadata": {},
   "outputs": [
    {
     "name": "stdout",
     "output_type": "stream",
     "text": [
      "['python_exos.ipynb', 'python_exos_2.ipynb']\n"
     ]
    }
   ],
   "source": [
    "import os\n",
    "import glob\n",
    "# quel repertoire de travail dans lequel on est\n",
    "os.getcwd()\n",
    "\n",
    "# affiche tout les noms des fichiers que l'on a dans le repo\n",
    "print(glob.glob(\"*.ipynb\"))"
   ]
  },
  {
   "cell_type": "code",
   "execution_count": 27,
   "metadata": {},
   "outputs": [
    {
     "name": "stdout",
     "output_type": "stream",
     "text": [
      "0^2 = 0 \n",
      "1^2 = 1 \n",
      "2^2 = 4 \n",
      "3^2 = 9 \n",
      "4^2 = 16 \n"
     ]
    }
   ],
   "source": [
    "filenames = glob.glob(\"*.txt\")\n",
    "\n",
    "for file in filenames:\n",
    "    with open(file, \"r\") as f:\n",
    "        print(f.read())"
   ]
  },
  {
   "cell_type": "code",
   "execution_count": 40,
   "metadata": {},
   "outputs": [
    {
     "data": {
      "text/plain": [
       "{'fichier.txt': ['0^2 = 0 ', '1^2 = 1 ', '2^2 = 4 ', '3^2 = 9 ', '4^2 = 16 '],\n",
       " 'fichier_2.txt': ['0:0',\n",
       "  '1:1',\n",
       "  '2:4',\n",
       "  '3:9',\n",
       "  '4:16',\n",
       "  '5:25',\n",
       "  '6:36',\n",
       "  '7:49',\n",
       "  '8:64',\n",
       "  '9:81']}"
      ]
     },
     "execution_count": 40,
     "metadata": {},
     "output_type": "execute_result"
    }
   ],
   "source": [
    "filenames = glob.glob(\"*.txt\")\n",
    "d = {}\n",
    "for file in filenames:\n",
    "    with open(file, \"r\") as f:\n",
    "        d[file] = f.read().splitlines()\n",
    "d"
   ]
  },
  {
   "cell_type": "code",
   "execution_count": 35,
   "metadata": {},
   "outputs": [
    {
     "name": "stdout",
     "output_type": "stream",
     "text": [
      "['0:0', '1:1', '2:4', '3:9', '4:16', '5:25', '6:36', '7:49', '8:64', '9:81']\n"
     ]
    }
   ],
   "source": [
    "with open('fichier_2.txt', 'r') as f:\n",
    "    liste_8 = f.read().splitlines() # enlever le \\n\n",
    "print(liste_8)"
   ]
  },
  {
   "cell_type": "code",
   "execution_count": 38,
   "metadata": {},
   "outputs": [
    {
     "data": {
      "text/plain": [
       "['0:0', '1:1', '2:4', '3:9', '4:16', '5:25', '6:36', '7:49', '8:64', '9:81']"
      ]
     },
     "execution_count": 38,
     "metadata": {},
     "output_type": "execute_result"
    }
   ],
   "source": [
    "liste_9 = [line.strip() for line in open('fichier_2.txt', 'r')]\n",
    "# .strip enlever les \\n\n",
    "liste_9"
   ]
  },
  {
   "cell_type": "markdown",
   "metadata": {},
   "source": [
    "7. Python OOP (Programmation Orientée Objet)"
   ]
  },
  {
   "cell_type": "markdown",
   "metadata": {},
   "source": [
    "Pas forcément nécéssaire en ML<"
   ]
  },
  {
   "cell_type": "markdown",
   "metadata": {},
   "source": [
    "- Objets (Classes) = Ex: Stylo\n",
    "- Attributs - (Paramètres) = Ex: Marque, Couleur, Masse, Niveau d'encre\n",
    "- Actions (Méthodes) = Ex: Ecrire, Effacer"
   ]
  }
 ],
 "metadata": {
  "kernelspec": {
   "display_name": "Python 3.10.7 64-bit (microsoft store)",
   "language": "python",
   "name": "python3"
  },
  "language_info": {
   "codemirror_mode": {
    "name": "ipython",
    "version": 3
   },
   "file_extension": ".py",
   "mimetype": "text/x-python",
   "name": "python",
   "nbconvert_exporter": "python",
   "pygments_lexer": "ipython3",
   "version": "3.10.7"
  },
  "orig_nbformat": 4,
  "vscode": {
   "interpreter": {
    "hash": "dc63c37ad6ec7fd41cc8e0b4a996b8e827c6212b8274acecb841856aa869bb12"
   }
  }
 },
 "nbformat": 4,
 "nbformat_minor": 2
}
